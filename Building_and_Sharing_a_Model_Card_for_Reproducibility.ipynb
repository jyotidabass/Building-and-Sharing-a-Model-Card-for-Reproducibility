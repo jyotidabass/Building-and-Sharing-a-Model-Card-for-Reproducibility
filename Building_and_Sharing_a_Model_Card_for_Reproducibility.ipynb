{
  "nbformat": 4,
  "nbformat_minor": 0,
  "metadata": {
    "colab": {
      "provenance": [],
      "authorship_tag": "ABX9TyOz+ZVK4V2CBd3cMxmd4eFM",
      "include_colab_link": true
    },
    "kernelspec": {
      "name": "python3",
      "display_name": "Python 3"
    },
    "language_info": {
      "name": "python"
    }
  },
  "cells": [
    {
      "cell_type": "markdown",
      "metadata": {
        "id": "view-in-github",
        "colab_type": "text"
      },
      "source": [
        "<a href=\"https://colab.research.google.com/github/jyotidabass/Building-and-Sharing-a-Model-Card-for-Reproducibility/blob/main/Building_and_Sharing_a_Model_Card_for_Reproducibility.ipynb\" target=\"_parent\"><img src=\"https://colab.research.google.com/assets/colab-badge.svg\" alt=\"Open In Colab\"/></a>"
      ]
    },
    {
      "cell_type": "code",
      "execution_count": 6,
      "metadata": {
        "colab": {
          "base_uri": "https://localhost:8080/"
        },
        "id": "AFq0VvIYDMfs",
        "outputId": "97a7a180-0da7-4a4b-c9af-ad5a40aa9b80"
      },
      "outputs": [
        {
          "output_type": "stream",
          "name": "stdout",
          "text": [
            "Model Card:\n",
            "model_name: Logistic Regression\n",
            "dataset: Iris Dataset\n",
            "features: ['sepal length', 'sepal width', 'petal length', 'petal width']\n",
            "target: species\n",
            "hyperparameters: {'penalty': 'l2', 'C': 1.0}\n",
            "metrics: {'accuracy': 1.0}\n"
          ]
        },
        {
          "output_type": "stream",
          "name": "stderr",
          "text": [
            "/usr/local/lib/python3.10/dist-packages/sklearn/linear_model/_logistic.py:469: ConvergenceWarning: lbfgs failed to converge (status=1):\n",
            "STOP: TOTAL NO. of ITERATIONS REACHED LIMIT.\n",
            "\n",
            "Increase the number of iterations (max_iter) or scale the data as shown in:\n",
            "    https://scikit-learn.org/stable/modules/preprocessing.html\n",
            "Please also refer to the documentation for alternative solver options:\n",
            "    https://scikit-learn.org/stable/modules/linear_model.html#logistic-regression\n",
            "  n_iter_i = _check_optimize_result(\n"
          ]
        }
      ],
      "source": [
        "# Import necessary libraries\n",
        "import pandas as pd\n",
        "from sklearn.model_selection import train_test_split\n",
        "from sklearn.linear_model import LogisticRegression\n",
        "from sklearn.metrics import accuracy_score\n",
        "\n",
        "# Define the model card\n",
        "model_card = {\n",
        "    \"model_name\": \"Logistic Regression\",\n",
        "    \"dataset\": \"Iris Dataset\",\n",
        "    \"features\": [\"sepal length\", \"sepal width\", \"petal length\", \"petal width\"],\n",
        "    \"target\": \"species\",\n",
        "    \"hyperparameters\": {\n",
        "        \"penalty\": \"l2\",\n",
        "        \"C\": 1.0\n",
        "    },\n",
        "    \"metrics\": {\n",
        "        \"accuracy\": 0.95\n",
        "    }\n",
        "}\n",
        "\n",
        "# Load the dataset\n",
        "df = pd.read_csv(\"/content/iris.csv\")\n",
        "\n",
        "# Split the data into training and testing sets\n",
        "X_train, X_test, y_train, y_test = train_test_split(df.drop(\"Species\", axis=1), df[\"Species\"], test_size=0.2, random_state=42)\n",
        "\n",
        "# Train the model\n",
        "model = LogisticRegression(**model_card[\"hyperparameters\"])\n",
        "model.fit(X_train, y_train)\n",
        "\n",
        "# Evaluate the model\n",
        "y_pred = model.predict(X_test)\n",
        "accuracy = accuracy_score(y_test, y_pred)\n",
        "model_card[\"metrics\"][\"accuracy\"] = accuracy\n",
        "\n",
        "# Share the model card\n",
        "print(\"Model Card:\")\n",
        "for key, value in model_card.items():\n",
        "    print(f\"{key}: {value}\")"
      ]
    }
  ]
}